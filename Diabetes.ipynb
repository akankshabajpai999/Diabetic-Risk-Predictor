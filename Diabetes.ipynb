{
 "cells": [
  {
   "cell_type": "code",
   "execution_count": 1,
   "id": "f99e16cc",
   "metadata": {},
   "outputs": [
    {
     "data": {
      "text/html": [
       "<div>\n",
       "<style scoped>\n",
       "    .dataframe tbody tr th:only-of-type {\n",
       "        vertical-align: middle;\n",
       "    }\n",
       "\n",
       "    .dataframe tbody tr th {\n",
       "        vertical-align: top;\n",
       "    }\n",
       "\n",
       "    .dataframe thead th {\n",
       "        text-align: right;\n",
       "    }\n",
       "</style>\n",
       "<table border=\"1\" class=\"dataframe\">\n",
       "  <thead>\n",
       "    <tr style=\"text-align: right;\">\n",
       "      <th></th>\n",
       "      <th>Pregnancies</th>\n",
       "      <th>Glucose</th>\n",
       "      <th>BloodPressure</th>\n",
       "      <th>SkinThickness</th>\n",
       "      <th>Insulin</th>\n",
       "      <th>BMI</th>\n",
       "      <th>DiabetesPedigreeFunction</th>\n",
       "      <th>Age</th>\n",
       "      <th>Outcome</th>\n",
       "    </tr>\n",
       "  </thead>\n",
       "  <tbody>\n",
       "    <tr>\n",
       "      <th>0</th>\n",
       "      <td>6</td>\n",
       "      <td>148</td>\n",
       "      <td>72</td>\n",
       "      <td>35</td>\n",
       "      <td>0</td>\n",
       "      <td>33.6</td>\n",
       "      <td>0.627</td>\n",
       "      <td>50</td>\n",
       "      <td>1</td>\n",
       "    </tr>\n",
       "    <tr>\n",
       "      <th>1</th>\n",
       "      <td>1</td>\n",
       "      <td>85</td>\n",
       "      <td>66</td>\n",
       "      <td>29</td>\n",
       "      <td>0</td>\n",
       "      <td>26.6</td>\n",
       "      <td>0.351</td>\n",
       "      <td>31</td>\n",
       "      <td>0</td>\n",
       "    </tr>\n",
       "    <tr>\n",
       "      <th>2</th>\n",
       "      <td>8</td>\n",
       "      <td>183</td>\n",
       "      <td>64</td>\n",
       "      <td>0</td>\n",
       "      <td>0</td>\n",
       "      <td>23.3</td>\n",
       "      <td>0.672</td>\n",
       "      <td>32</td>\n",
       "      <td>1</td>\n",
       "    </tr>\n",
       "    <tr>\n",
       "      <th>3</th>\n",
       "      <td>1</td>\n",
       "      <td>89</td>\n",
       "      <td>66</td>\n",
       "      <td>23</td>\n",
       "      <td>94</td>\n",
       "      <td>28.1</td>\n",
       "      <td>0.167</td>\n",
       "      <td>21</td>\n",
       "      <td>0</td>\n",
       "    </tr>\n",
       "    <tr>\n",
       "      <th>4</th>\n",
       "      <td>0</td>\n",
       "      <td>137</td>\n",
       "      <td>40</td>\n",
       "      <td>35</td>\n",
       "      <td>168</td>\n",
       "      <td>43.1</td>\n",
       "      <td>2.288</td>\n",
       "      <td>33</td>\n",
       "      <td>1</td>\n",
       "    </tr>\n",
       "    <tr>\n",
       "      <th>...</th>\n",
       "      <td>...</td>\n",
       "      <td>...</td>\n",
       "      <td>...</td>\n",
       "      <td>...</td>\n",
       "      <td>...</td>\n",
       "      <td>...</td>\n",
       "      <td>...</td>\n",
       "      <td>...</td>\n",
       "      <td>...</td>\n",
       "    </tr>\n",
       "    <tr>\n",
       "      <th>763</th>\n",
       "      <td>10</td>\n",
       "      <td>101</td>\n",
       "      <td>76</td>\n",
       "      <td>48</td>\n",
       "      <td>180</td>\n",
       "      <td>32.9</td>\n",
       "      <td>0.171</td>\n",
       "      <td>63</td>\n",
       "      <td>0</td>\n",
       "    </tr>\n",
       "    <tr>\n",
       "      <th>764</th>\n",
       "      <td>2</td>\n",
       "      <td>122</td>\n",
       "      <td>70</td>\n",
       "      <td>27</td>\n",
       "      <td>0</td>\n",
       "      <td>36.8</td>\n",
       "      <td>0.340</td>\n",
       "      <td>27</td>\n",
       "      <td>0</td>\n",
       "    </tr>\n",
       "    <tr>\n",
       "      <th>765</th>\n",
       "      <td>5</td>\n",
       "      <td>121</td>\n",
       "      <td>72</td>\n",
       "      <td>23</td>\n",
       "      <td>112</td>\n",
       "      <td>26.2</td>\n",
       "      <td>0.245</td>\n",
       "      <td>30</td>\n",
       "      <td>0</td>\n",
       "    </tr>\n",
       "    <tr>\n",
       "      <th>766</th>\n",
       "      <td>1</td>\n",
       "      <td>126</td>\n",
       "      <td>60</td>\n",
       "      <td>0</td>\n",
       "      <td>0</td>\n",
       "      <td>30.1</td>\n",
       "      <td>0.349</td>\n",
       "      <td>47</td>\n",
       "      <td>1</td>\n",
       "    </tr>\n",
       "    <tr>\n",
       "      <th>767</th>\n",
       "      <td>1</td>\n",
       "      <td>93</td>\n",
       "      <td>70</td>\n",
       "      <td>31</td>\n",
       "      <td>0</td>\n",
       "      <td>30.4</td>\n",
       "      <td>0.315</td>\n",
       "      <td>23</td>\n",
       "      <td>0</td>\n",
       "    </tr>\n",
       "  </tbody>\n",
       "</table>\n",
       "<p>768 rows × 9 columns</p>\n",
       "</div>"
      ],
      "text/plain": [
       "     Pregnancies  Glucose  BloodPressure  SkinThickness  Insulin   BMI  \\\n",
       "0              6      148             72             35        0  33.6   \n",
       "1              1       85             66             29        0  26.6   \n",
       "2              8      183             64              0        0  23.3   \n",
       "3              1       89             66             23       94  28.1   \n",
       "4              0      137             40             35      168  43.1   \n",
       "..           ...      ...            ...            ...      ...   ...   \n",
       "763           10      101             76             48      180  32.9   \n",
       "764            2      122             70             27        0  36.8   \n",
       "765            5      121             72             23      112  26.2   \n",
       "766            1      126             60              0        0  30.1   \n",
       "767            1       93             70             31        0  30.4   \n",
       "\n",
       "     DiabetesPedigreeFunction  Age  Outcome  \n",
       "0                       0.627   50        1  \n",
       "1                       0.351   31        0  \n",
       "2                       0.672   32        1  \n",
       "3                       0.167   21        0  \n",
       "4                       2.288   33        1  \n",
       "..                        ...  ...      ...  \n",
       "763                     0.171   63        0  \n",
       "764                     0.340   27        0  \n",
       "765                     0.245   30        0  \n",
       "766                     0.349   47        1  \n",
       "767                     0.315   23        0  \n",
       "\n",
       "[768 rows x 9 columns]"
      ]
     },
     "metadata": {},
     "output_type": "display_data"
    }
   ],
   "source": [
    "import pandas as pd\n",
    "import numpy as np\n",
    "import matplotlib.pyplot as plt\n",
    "from IPython.display import display\n",
    "diabetes = pd.read_csv('diabetes.csv')\n",
    "display(diabetes)"
   ]
  },
  {
   "cell_type": "code",
   "execution_count": 2,
   "id": "56658fa1",
   "metadata": {},
   "outputs": [
    {
     "name": "stdout",
     "output_type": "stream",
     "text": [
      "No duplicate rows found.\n"
     ]
    }
   ],
   "source": [
    "duplicates = diabetes[diabetes.duplicated()]\n",
    "\n",
    "# Print or handle the duplicates as needed\n",
    "if not duplicates.empty:\n",
    "    print(\"Duplicate rows found:\")\n",
    "    display(duplicates)\n",
    "else:\n",
    "    print(\"No duplicate rows found.\")"
   ]
  },
  {
   "cell_type": "code",
   "execution_count": 3,
   "id": "080ecc2d",
   "metadata": {},
   "outputs": [
    {
     "name": "stdout",
     "output_type": "stream",
     "text": [
      "<class 'pandas.core.frame.DataFrame'>\n",
      "RangeIndex: 768 entries, 0 to 767\n",
      "Data columns (total 9 columns):\n",
      " #   Column                    Non-Null Count  Dtype  \n",
      "---  ------                    --------------  -----  \n",
      " 0   Pregnancies               768 non-null    int64  \n",
      " 1   Glucose                   768 non-null    int64  \n",
      " 2   BloodPressure             768 non-null    int64  \n",
      " 3   SkinThickness             768 non-null    int64  \n",
      " 4   Insulin                   768 non-null    int64  \n",
      " 5   BMI                       768 non-null    float64\n",
      " 6   DiabetesPedigreeFunction  768 non-null    float64\n",
      " 7   Age                       768 non-null    int64  \n",
      " 8   Outcome                   768 non-null    int64  \n",
      "dtypes: float64(2), int64(7)\n",
      "memory usage: 54.1 KB\n"
     ]
    }
   ],
   "source": [
    "diabetes.info()"
   ]
  },
  {
   "cell_type": "code",
   "execution_count": 4,
   "id": "004e880e",
   "metadata": {},
   "outputs": [
    {
     "data": {
      "text/plain": [
       "<matplotlib.legend.Legend at 0x25fcb6f6c10>"
      ]
     },
     "execution_count": 4,
     "metadata": {},
     "output_type": "execute_result"
    },
    {
     "data": {
      "image/png": "[encoded data removed]",
      "text/plain": [
       "<Figure size 640x480 with 1 Axes>"
      ]
     },
     "metadata": {},
     "output_type": "display_data"
    }
   ],
   "source": [
    "from sklearn.model_selection import train_test_split\n",
    "X_train, X_test, y_train, y_test = train_test_split(diabetes.loc[:, diabetes.columns != 'Outcome'], diabetes['Outcome'], stratify=diabetes['Outcome'], random_state=66)\n",
    "from sklearn.neighbors import KNeighborsClassifier\n",
    "training_accuracy = []\n",
    "test_accuracy = []\n",
    "# try n_neighbors from 1 to 10\n",
    "neighbors_settings = range(1, 11)\n",
    "for n_neighbors in neighbors_settings:\n",
    "    # build the model\n",
    "    knn = KNeighborsClassifier(n_neighbors=n_neighbors)\n",
    "    knn.fit(X_train, y_train)\n",
    "    # record training set accuracy\n",
    "    training_accuracy.append(knn.score(X_train, y_train))\n",
    "    # record test set accuracy\n",
    "    test_accuracy.append(knn.score(X_test, y_test))\n",
    "plt.plot(neighbors_settings, training_accuracy, label=\"training accuracy\")\n",
    "plt.plot(neighbors_settings, test_accuracy, label=\"test accuracy\")\n",
    "plt.ylabel(\"Accuracy\")\n",
    "plt.xlabel(\"n_neighbors\")\n",
    "plt.legend()"
   ]
  },
  {
   "cell_type": "code",
   "execution_count": 5,
   "id": "4ad28534",
   "metadata": {},
   "outputs": [
    {
     "name": "stdout",
     "output_type": "stream",
     "text": [
      "Accuracy of K-NN classifier on training set: 0.79\n",
      "Accuracy of K-NN classifier on test set: 0.78\n"
     ]
    }
   ],
   "source": [
    "knn = KNeighborsClassifier(n_neighbors=9)\n",
    "knn.fit(X_train, y_train)\n",
    "print('Accuracy of K-NN classifier on training set: {:.2f}'.format(knn.score(X_train, y_train)))\n",
    "print('Accuracy of K-NN classifier on test set: {:.2f}'.format(knn.score(X_test, y_test)))"
   ]
  },
  {
   "cell_type": "code",
   "execution_count": 6,
   "id": "285972cf",
   "metadata": {},
   "outputs": [
    {
     "name": "stdout",
     "output_type": "stream",
     "text": [
      "Accuracy on training set: 1.000\n",
      "Accuracy on test set: 0.714\n"
     ]
    }
   ],
   "source": [
    "from sklearn.tree import DecisionTreeClassifier\n",
    "tree = DecisionTreeClassifier(random_state=0)\n",
    "tree.fit(X_train, y_train)\n",
    "print(\"Accuracy on training set: {:.3f}\".format(tree.score(X_train, y_train)))\n",
    "print(\"Accuracy on test set: {:.3f}\".format(tree.score(X_test, y_test)))"
   ]
  },
  {
   "cell_type": "code",
   "execution_count": 7,
   "id": "3a9e0c2a",
   "metadata": {},
   "outputs": [
    {
     "name": "stdout",
     "output_type": "stream",
     "text": [
      "Accuracy on training set: 0.773\n",
      "Accuracy on test set: 0.740\n"
     ]
    }
   ],
   "source": [
    "tree = DecisionTreeClassifier(max_depth=3, random_state=0)\n",
    "tree.fit(X_train, y_train)\n",
    "print(\"Accuracy on training set: {:.3f}\".format(tree.score(X_train, y_train)))\n",
    "print(\"Accuracy on test set: {:.3f}\".format(tree.score(X_test, y_test)))"
   ]
  },
  {
   "cell_type": "code",
   "execution_count": 8,
   "id": "d57b6238",
   "metadata": {},
   "outputs": [
    {
     "name": "stdout",
     "output_type": "stream",
     "text": [
      "Feature importances:\n",
      "[0.04554275 0.6830362  0.         0.         0.         0.27142106\n",
      " 0.         0.        ]\n"
     ]
    }
   ],
   "source": [
    "print(\"Feature importances:\\n{}\".format(tree.feature_importances_))"
   ]
  },
  {
   "cell_type": "code",
   "execution_count": 9,
   "id": "99c9bbaf",
   "metadata": {},
   "outputs": [
    {
     "data": {
      "image/png": "[encoded data removed]",
      "text/plain": [
       "<Figure size 800x600 with 1 Axes>"
      ]
     },
     "metadata": {},
     "output_type": "display_data"
    }
   ],
   "source": [
    "diabetes_features = diabetes.columns[:-1]\n",
    "def plot_feature_importances_diabetes(model):\n",
    "    plt.figure(figsize=(8,6))\n",
    "    n_features = 8\n",
    "    plt.barh(range(n_features), model.feature_importances_, align='center')\n",
    "    plt.yticks(np.arange(n_features), diabetes_features)\n",
    "    plt.xlabel(\"Feature importance\")\n",
    "    plt.ylabel(\"Feature\")\n",
    "    plt.ylim(-1, n_features)\n",
    "plot_feature_importances_diabetes(tree)"
   ]
  },
  {
   "cell_type": "code",
   "execution_count": 10,
   "id": "f45d79d4",
   "metadata": {},
   "outputs": [
    {
     "name": "stdout",
     "output_type": "stream",
     "text": [
      "Accuracy on training set: 0.73\n",
      "Accuracy on test set: 0.72\n"
     ]
    }
   ],
   "source": [
    "from sklearn.neural_network import MLPClassifier\n",
    "mlp = MLPClassifier(random_state=42)\n",
    "mlp.fit(X_train, y_train)\n",
    "print(\"Accuracy on training set: {:.2f}\".format(mlp.score(X_train, y_train)))\n",
    "print(\"Accuracy on test set: {:.2f}\".format(mlp.score(X_test, y_test)))"
   ]
  },
  {
   "cell_type": "code",
   "execution_count": 11,
   "id": "33da64f1",
   "metadata": {},
   "outputs": [
    {
     "name": "stdout",
     "output_type": "stream",
     "text": [
      "Accuracy on training set: 0.823\n",
      "Accuracy on test set: 0.802\n"
     ]
    },
    {
     "name": "stderr",
     "output_type": "stream",
     "text": [
      "E:\\ProgramData\\anaconda3\\envs\\MSBANA\\Lib\\site-packages\\sklearn\\neural_network\\_multilayer_perceptron.py:691: ConvergenceWarning: Stochastic Optimizer: Maximum iterations (200) reached and the optimization hasn't converged yet.\n",
      "  warnings.warn(\n"
     ]
    }
   ],
   "source": [
    "from sklearn.preprocessing import StandardScaler\n",
    "scaler = StandardScaler()\n",
    "X_train_scaled = scaler.fit_transform(X_train)\n",
    "X_test_scaled = scaler.fit_transform(X_test)\n",
    "mlp = MLPClassifier(random_state=0)\n",
    "mlp.fit(X_train_scaled, y_train)\n",
    "print(\"Accuracy on training set: {:.3f}\".format(\n",
    "    mlp.score(X_train_scaled, y_train)))\n",
    "print(\"Accuracy on test set: {:.3f}\".format(mlp.score(X_test_scaled, y_test)))"
   ]
  },
  {
   "cell_type": "code",
   "execution_count": 12,
   "id": "a91efec3",
   "metadata": {},
   "outputs": [
    {
     "name": "stdout",
     "output_type": "stream",
     "text": [
      "Accuracy on training set: 0.806\n",
      "Accuracy on test set: 0.797\n"
     ]
    }
   ],
   "source": [
    "mlp = MLPClassifier(max_iter=1000, alpha=1, random_state=0)\n",
    "mlp.fit(X_train_scaled, y_train)\n",
    "print(\"Accuracy on training set: {:.3f}\".format(\n",
    "    mlp.score(X_train_scaled, y_train)))\n",
    "print(\"Accuracy on test set: {:.3f}\".format(mlp.score(X_test_scaled, y_test)))"
   ]
  },
  {
   "cell_type": "code",
   "execution_count": 13,
   "id": "6de318b6",
   "metadata": {},
   "outputs": [
    {
     "data": {
      "text/plain": [
       "<matplotlib.colorbar.Colorbar at 0x25fcc279590>"
      ]
     },
     "execution_count": 13,
     "metadata": {},
     "output_type": "execute_result"
    },
    {
     "data": {
      "image/png": "[encoded data removed]",
      "text/plain": [
       "<Figure size 2000x500 with 2 Axes>"
      ]
     },
     "metadata": {},
     "output_type": "display_data"
    }
   ],
   "source": [
    "plt.figure(figsize=(20, 5))\n",
    "plt.imshow(mlp.coefs_[0], interpolation='none', cmap='viridis')\n",
    "plt.yticks(range(8), diabetes_features)\n",
    "plt.xlabel(\"Columns in weight matrix\")\n",
    "plt.ylabel(\"Input feature\")\n",
    "plt.colorbar()"
   ]
  },
  {
   "cell_type": "code",
   "execution_count": 14,
   "id": "272cacdd",
   "metadata": {},
   "outputs": [
    {
     "data": {
      "text/plain": [
       "(0.7467532467532467,\n",
       " '              precision    recall  f1-score   support\\n\\n           0       0.81      0.79      0.80        99\\n           1       0.64      0.67      0.65        55\\n\\n    accuracy                           0.75       154\\n   macro avg       0.73      0.73      0.73       154\\nweighted avg       0.75      0.75      0.75       154\\n')"
      ]
     },
     "execution_count": 14,
     "metadata": {},
     "output_type": "execute_result"
    }
   ],
   "source": [
    "from sklearn.preprocessing import StandardScaler\n",
    "from sklearn.model_selection import GridSearchCV\n",
    "from sklearn.ensemble import RandomForestClassifier\n",
    "from sklearn.pipeline import Pipeline\n",
    "from sklearn.model_selection import train_test_split\n",
    "from sklearn.linear_model import LogisticRegression\n",
    "from sklearn.metrics import accuracy_score, classification_report\n",
    "\n",
    "\n",
    "# Check for missing values\n",
    "diabetes_df = pd.read_csv('diabetes.csv')\n",
    "missing_values = diabetes_df.isnull().sum()\n",
    "\n",
    "# Define features and target variable\n",
    "X = diabetes_df.drop('Outcome', axis=1)\n",
    "y = diabetes_df['Outcome']\n",
    "\n",
    "# Split the dataset into training and test sets\n",
    "X_train, X_test, y_train, y_test = train_test_split(X, y, test_size=0.2, random_state=42)\n",
    "\n",
    "# Initialize and train the logistic regression model\n",
    "model = LogisticRegression(max_iter=1000)\n",
    "model.fit(X_train, y_train)\n",
    "\n",
    "# Make predictions and evaluate the model\n",
    "predictions = model.predict(X_test)\n",
    "accuracy = accuracy_score(y_test, predictions)\n",
    "report = classification_report(y_test, predictions)\n",
    "\n",
    "accuracy, report"
   ]
  },
  {
   "cell_type": "code",
   "execution_count": 15,
   "id": "3bee4be6",
   "metadata": {},
   "outputs": [
    {
     "name": "stdout",
     "output_type": "stream",
     "text": [
      "Optimization terminated successfully.\n",
      "         Current function value: 0.467835\n",
      "         Iterations 6\n"
     ]
    },
    {
     "data": {
      "text/html": [
       "<table class=\"simpletable\">\n",
       "<caption>Logit Regression Results</caption>\n",
       "<tr>\n",
       "  <th>Dep. Variable:</th>        <td>Outcome</td>     <th>  No. Observations:  </th>  <td>   614</td>  \n",
       "</tr>\n",
       "<tr>\n",
       "  <th>Model:</th>                 <td>Logit</td>      <th>  Df Residuals:      </th>  <td>   605</td>  \n",
       "</tr>\n",
       "<tr>\n",
       "  <th>Method:</th>                 <td>MLE</td>       <th>  Df Model:          </th>  <td>     8</td>  \n",
       "</tr>\n",
       "<tr>\n",
       "  <th>Date:</th>            <td>Sat, 09 Mar 2024</td> <th>  Pseudo R-squ.:     </th>  <td>0.2752</td>  \n",
       "</tr>\n",
       "<tr>\n",
       "  <th>Time:</th>                <td>19:12:27</td>     <th>  Log-Likelihood:    </th> <td> -287.25</td> \n",
       "</tr>\n",
       "<tr>\n",
       "  <th>converged:</th>             <td>True</td>       <th>  LL-Null:           </th> <td> -396.34</td> \n",
       "</tr>\n",
       "<tr>\n",
       "  <th>Covariance Type:</th>     <td>nonrobust</td>    <th>  LLR p-value:       </th> <td>9.311e-43</td>\n",
       "</tr>\n",
       "</table>\n",
       "<table class=\"simpletable\">\n",
       "<tr>\n",
       "              <td></td>                <th>coef</th>     <th>std err</th>      <th>z</th>      <th>P>|z|</th>  <th>[0.025</th>    <th>0.975]</th>  \n",
       "</tr>\n",
       "<tr>\n",
       "  <th>const</th>                    <td>   -9.0359</td> <td>    0.837</td> <td>  -10.802</td> <td> 0.000</td> <td>  -10.675</td> <td>   -7.396</td>\n",
       "</tr>\n",
       "<tr>\n",
       "  <th>Pregnancies</th>              <td>    0.0645</td> <td>    0.036</td> <td>    1.791</td> <td> 0.073</td> <td>   -0.006</td> <td>    0.135</td>\n",
       "</tr>\n",
       "<tr>\n",
       "  <th>Glucose</th>                  <td>    0.0341</td> <td>    0.004</td> <td>    8.055</td> <td> 0.000</td> <td>    0.026</td> <td>    0.042</td>\n",
       "</tr>\n",
       "<tr>\n",
       "  <th>BloodPressure</th>            <td>   -0.0139</td> <td>    0.006</td> <td>   -2.260</td> <td> 0.024</td> <td>   -0.026</td> <td>   -0.002</td>\n",
       "</tr>\n",
       "<tr>\n",
       "  <th>SkinThickness</th>            <td>    0.0031</td> <td>    0.008</td> <td>    0.397</td> <td> 0.691</td> <td>   -0.012</td> <td>    0.019</td>\n",
       "</tr>\n",
       "<tr>\n",
       "  <th>Insulin</th>                  <td>   -0.0018</td> <td>    0.001</td> <td>   -1.782</td> <td> 0.075</td> <td>   -0.004</td> <td>    0.000</td>\n",
       "</tr>\n",
       "<tr>\n",
       "  <th>BMI</th>                      <td>    0.1026</td> <td>    0.017</td> <td>    5.948</td> <td> 0.000</td> <td>    0.069</td> <td>    0.136</td>\n",
       "</tr>\n",
       "<tr>\n",
       "  <th>DiabetesPedigreeFunction</th> <td>    0.6945</td> <td>    0.330</td> <td>    2.107</td> <td> 0.035</td> <td>    0.049</td> <td>    1.341</td>\n",
       "</tr>\n",
       "<tr>\n",
       "  <th>Age</th>                      <td>    0.0371</td> <td>    0.011</td> <td>    3.400</td> <td> 0.001</td> <td>    0.016</td> <td>    0.058</td>\n",
       "</tr>\n",
       "</table>"
      ],
      "text/latex": [
       "\\begin{center}\n",
       "\\begin{tabular}{lclc}\n",
       "\\toprule\n",
       "\\textbf{Dep. Variable:}           &     Outcome      & \\textbf{  No. Observations:  } &      614    \\\\\n",
       "\\textbf{Model:}                   &      Logit       & \\textbf{  Df Residuals:      } &      605    \\\\\n",
       "\\textbf{Method:}                  &       MLE        & \\textbf{  Df Model:          } &        8    \\\\\n",
       "\\textbf{Date:}                    & Sat, 09 Mar 2024 & \\textbf{  Pseudo R-squ.:     } &   0.2752    \\\\\n",
       "\\textbf{Time:}                    &     19:12:27     & \\textbf{  Log-Likelihood:    } &   -287.25   \\\\\n",
       "\\textbf{converged:}               &       True       & \\textbf{  LL-Null:           } &   -396.34   \\\\\n",
       "\\textbf{Covariance Type:}         &    nonrobust     & \\textbf{  LLR p-value:       } & 9.311e-43   \\\\\n",
       "\\bottomrule\n",
       "\\end{tabular}\n",
       "\\begin{tabular}{lcccccc}\n",
       "                                  & \\textbf{coef} & \\textbf{std err} & \\textbf{z} & \\textbf{P$> |$z$|$} & \\textbf{[0.025} & \\textbf{0.975]}  \\\\\n",
       "\\midrule\n",
       "\\textbf{const}                    &      -9.0359  &        0.837     &   -10.802  &         0.000        &      -10.675    &       -7.396     \\\\\n",
       "\\textbf{Pregnancies}              &       0.0645  &        0.036     &     1.791  &         0.073        &       -0.006    &        0.135     \\\\\n",
       "\\textbf{Glucose}                  &       0.0341  &        0.004     &     8.055  &         0.000        &        0.026    &        0.042     \\\\\n",
       "\\textbf{BloodPressure}            &      -0.0139  &        0.006     &    -2.260  &         0.024        &       -0.026    &       -0.002     \\\\\n",
       "\\textbf{SkinThickness}            &       0.0031  &        0.008     &     0.397  &         0.691        &       -0.012    &        0.019     \\\\\n",
       "\\textbf{Insulin}                  &      -0.0018  &        0.001     &    -1.782  &         0.075        &       -0.004    &        0.000     \\\\\n",
       "\\textbf{BMI}                      &       0.1026  &        0.017     &     5.948  &         0.000        &        0.069    &        0.136     \\\\\n",
       "\\textbf{DiabetesPedigreeFunction} &       0.6945  &        0.330     &     2.107  &         0.035        &        0.049    &        1.341     \\\\\n",
       "\\textbf{Age}                      &       0.0371  &        0.011     &     3.400  &         0.001        &        0.016    &        0.058     \\\\\n",
       "\\bottomrule\n",
       "\\end{tabular}\n",
       "%\\caption{Logit Regression Results}\n",
       "\\end{center}"
      ],
      "text/plain": [
       "<class 'statsmodels.iolib.summary.Summary'>\n",
       "\"\"\"\n",
       "                           Logit Regression Results                           \n",
       "==============================================================================\n",
       "Dep. Variable:                Outcome   No. Observations:                  614\n",
       "Model:                          Logit   Df Residuals:                      605\n",
       "Method:                           MLE   Df Model:                            8\n",
       "Date:                Sat, 09 Mar 2024   Pseudo R-squ.:                  0.2752\n",
       "Time:                        19:12:27   Log-Likelihood:                -287.25\n",
       "converged:                       True   LL-Null:                       -396.34\n",
       "Covariance Type:            nonrobust   LLR p-value:                 9.311e-43\n",
       "============================================================================================\n",
       "                               coef    std err          z      P>|z|      [0.025      0.975]\n",
       "--------------------------------------------------------------------------------------------\n",
       "const                       -9.0359      0.837    -10.802      0.000     -10.675      -7.396\n",
       "Pregnancies                  0.0645      0.036      1.791      0.073      -0.006       0.135\n",
       "Glucose                      0.0341      0.004      8.055      0.000       0.026       0.042\n",
       "BloodPressure               -0.0139      0.006     -2.260      0.024      -0.026      -0.002\n",
       "SkinThickness                0.0031      0.008      0.397      0.691      -0.012       0.019\n",
       "Insulin                     -0.0018      0.001     -1.782      0.075      -0.004       0.000\n",
       "BMI                          0.1026      0.017      5.948      0.000       0.069       0.136\n",
       "DiabetesPedigreeFunction     0.6945      0.330      2.107      0.035       0.049       1.341\n",
       "Age                          0.0371      0.011      3.400      0.001       0.016       0.058\n",
       "============================================================================================\n",
       "\"\"\""
      ]
     },
     "execution_count": 15,
     "metadata": {},
     "output_type": "execute_result"
    }
   ],
   "source": [
    "from sklearn.model_selection import train_test_split\n",
    "from sklearn.linear_model import LogisticRegression\n",
    "from sklearn.metrics import classification_report, confusion_matrix\n",
    "import statsmodels.api as sm\n",
    "import pandas as pd\n",
    "\n",
    "# Load the dataset\n",
    "data = pd.read_csv('diabetes.csv')\n",
    "\n",
    "# Splitting the dataset into training and testing sets\n",
    "X = data.drop('Outcome', axis=1)  # Predictor variables\n",
    "y = data['Outcome']               # Response variable\n",
    "\n",
    "X_train, X_test, y_train, y_test = train_test_split(X, y, test_size=0.2, random_state=42)\n",
    "\n",
    "# Adding constant for statsmodels\n",
    "X_sm = sm.add_constant(X_train)\n",
    "logit_model = sm.Logit(y_train, X_sm)\n",
    "\n",
    "# Fitting the model\n",
    "result = logit_model.fit()\n",
    "\n",
    "# Displaying the summary of the model\n",
    "result_summary = result.summary()\n",
    "result_summary"
   ]
  },
  {
   "cell_type": "code",
   "execution_count": 16,
   "id": "5e040766",
   "metadata": {},
   "outputs": [
    {
     "data": {
      "text/html": [
       "<table class=\"simpletable\">\n",
       "<caption>Logit Regression Results</caption>\n",
       "<tr>\n",
       "  <th>Dep. Variable:</th>        <td>Outcome</td>     <th>  No. Observations:  </th>  <td>   768</td>  \n",
       "</tr>\n",
       "<tr>\n",
       "  <th>Model:</th>                 <td>Logit</td>      <th>  Df Residuals:      </th>  <td>   763</td>  \n",
       "</tr>\n",
       "<tr>\n",
       "  <th>Method:</th>                 <td>MLE</td>       <th>  Df Model:          </th>  <td>     4</td>  \n",
       "</tr>\n",
       "<tr>\n",
       "  <th>Date:</th>            <td>Sat, 09 Mar 2024</td> <th>  Pseudo R-squ.:     </th>  <td>0.2609</td>  \n",
       "</tr>\n",
       "<tr>\n",
       "  <th>Time:</th>                <td>19:12:28</td>     <th>  Log-Likelihood:    </th> <td> -367.15</td> \n",
       "</tr>\n",
       "<tr>\n",
       "  <th>converged:</th>             <td>True</td>       <th>  LL-Null:           </th> <td> -496.74</td> \n",
       "</tr>\n",
       "<tr>\n",
       "  <th>Covariance Type:</th>     <td>nonrobust</td>    <th>  LLR p-value:       </th> <td>6.857e-55</td>\n",
       "</tr>\n",
       "</table>\n",
       "<table class=\"simpletable\">\n",
       "<tr>\n",
       "              <td></td>                <th>coef</th>     <th>std err</th>      <th>z</th>      <th>P>|z|</th>  <th>[0.025</th>    <th>0.975]</th>  \n",
       "</tr>\n",
       "<tr>\n",
       "  <th>const</th>                    <td>   -8.4159</td> <td>    0.657</td> <td>  -12.811</td> <td> 0.000</td> <td>   -9.703</td> <td>   -7.128</td>\n",
       "</tr>\n",
       "<tr>\n",
       "  <th>Pregnancies</th>              <td>    0.1419</td> <td>    0.027</td> <td>    5.236</td> <td> 0.000</td> <td>    0.089</td> <td>    0.195</td>\n",
       "</tr>\n",
       "<tr>\n",
       "  <th>Glucose</th>                  <td>    0.0338</td> <td>    0.003</td> <td>   10.112</td> <td> 0.000</td> <td>    0.027</td> <td>    0.040</td>\n",
       "</tr>\n",
       "<tr>\n",
       "  <th>BMI</th>                      <td>    0.0781</td> <td>    0.014</td> <td>    5.671</td> <td> 0.000</td> <td>    0.051</td> <td>    0.105</td>\n",
       "</tr>\n",
       "<tr>\n",
       "  <th>DiabetesPedigreeFunction</th> <td>    0.9013</td> <td>    0.292</td> <td>    3.090</td> <td> 0.002</td> <td>    0.330</td> <td>    1.473</td>\n",
       "</tr>\n",
       "</table>"
      ],
      "text/latex": [
       "\\begin{center}\n",
       "\\begin{tabular}{lclc}\n",
       "\\toprule\n",
       "\\textbf{Dep. Variable:}           &     Outcome      & \\textbf{  No. Observations:  } &      768    \\\\\n",
       "\\textbf{Model:}                   &      Logit       & \\textbf{  Df Residuals:      } &      763    \\\\\n",
       "\\textbf{Method:}                  &       MLE        & \\textbf{  Df Model:          } &        4    \\\\\n",
       "\\textbf{Date:}                    & Sat, 09 Mar 2024 & \\textbf{  Pseudo R-squ.:     } &   0.2609    \\\\\n",
       "\\textbf{Time:}                    &     19:12:28     & \\textbf{  Log-Likelihood:    } &   -367.15   \\\\\n",
       "\\textbf{converged:}               &       True       & \\textbf{  LL-Null:           } &   -496.74   \\\\\n",
       "\\textbf{Covariance Type:}         &    nonrobust     & \\textbf{  LLR p-value:       } & 6.857e-55   \\\\\n",
       "\\bottomrule\n",
       "\\end{tabular}\n",
       "\\begin{tabular}{lcccccc}\n",
       "                                  & \\textbf{coef} & \\textbf{std err} & \\textbf{z} & \\textbf{P$> |$z$|$} & \\textbf{[0.025} & \\textbf{0.975]}  \\\\\n",
       "\\midrule\n",
       "\\textbf{const}                    &      -8.4159  &        0.657     &   -12.811  &         0.000        &       -9.703    &       -7.128     \\\\\n",
       "\\textbf{Pregnancies}              &       0.1419  &        0.027     &     5.236  &         0.000        &        0.089    &        0.195     \\\\\n",
       "\\textbf{Glucose}                  &       0.0338  &        0.003     &    10.112  &         0.000        &        0.027    &        0.040     \\\\\n",
       "\\textbf{BMI}                      &       0.0781  &        0.014     &     5.671  &         0.000        &        0.051    &        0.105     \\\\\n",
       "\\textbf{DiabetesPedigreeFunction} &       0.9013  &        0.292     &     3.090  &         0.002        &        0.330    &        1.473     \\\\\n",
       "\\bottomrule\n",
       "\\end{tabular}\n",
       "%\\caption{Logit Regression Results}\n",
       "\\end{center}"
      ],
      "text/plain": [
       "<class 'statsmodels.iolib.summary.Summary'>\n",
       "\"\"\"\n",
       "                           Logit Regression Results                           \n",
       "==============================================================================\n",
       "Dep. Variable:                Outcome   No. Observations:                  768\n",
       "Model:                          Logit   Df Residuals:                      763\n",
       "Method:                           MLE   Df Model:                            4\n",
       "Date:                Sat, 09 Mar 2024   Pseudo R-squ.:                  0.2609\n",
       "Time:                        19:12:28   Log-Likelihood:                -367.15\n",
       "converged:                       True   LL-Null:                       -496.74\n",
       "Covariance Type:            nonrobust   LLR p-value:                 6.857e-55\n",
       "============================================================================================\n",
       "                               coef    std err          z      P>|z|      [0.025      0.975]\n",
       "--------------------------------------------------------------------------------------------\n",
       "const                       -8.4159      0.657    -12.811      0.000      -9.703      -7.128\n",
       "Pregnancies                  0.1419      0.027      5.236      0.000       0.089       0.195\n",
       "Glucose                      0.0338      0.003     10.112      0.000       0.027       0.040\n",
       "BMI                          0.0781      0.014      5.671      0.000       0.051       0.105\n",
       "DiabetesPedigreeFunction     0.9013      0.292      3.090      0.002       0.330       1.473\n",
       "============================================================================================\n",
       "\"\"\""
      ]
     },
     "execution_count": 16,
     "metadata": {},
     "output_type": "execute_result"
    }
   ],
   "source": [
    "from itertools import combinations\n",
    "import numpy as np\n",
    "\n",
    "def calculate_bic(y, X):\n",
    "    \"\"\"\n",
    "    Function to calculate the Bayesian Information Criterion for a given model.\n",
    "    \"\"\"\n",
    "    model = sm.Logit(y, X).fit(disp=0)\n",
    "    bic = model.bic\n",
    "    return bic, model\n",
    "\n",
    "def step_bic_selection(y, X):\n",
    "    \"\"\"\n",
    "    Performs a stepwise selection based on the BIC criterion.\n",
    "    \n",
    "    Parameters:\n",
    "    - y: The dependent variable\n",
    "    - X: The independent variables (predictors)\n",
    "    \n",
    "    Returns:\n",
    "    - The model with the lowest BIC and its BIC value.\n",
    "    \"\"\"\n",
    "    best_bic = np.inf\n",
    "    best_model = None\n",
    "    \n",
    "    # Iterate over all possible combinations of predictors\n",
    "    for k in range(1, len(X.columns) + 1):\n",
    "        for combo in combinations(X.columns, k):\n",
    "            X_combo = sm.add_constant(X[list(combo)])\n",
    "            bic, model = calculate_bic(y, X_combo)\n",
    "            \n",
    "            if bic < best_bic:\n",
    "                best_bic = bic\n",
    "                best_model = model\n",
    "                \n",
    "    return best_bic, best_model\n",
    "\n",
    "# Perform the stepwise BIC selection process\n",
    "best_bic, best_model = step_bic_selection(y, X)\n",
    "\n",
    "# Display the summary of the best model\n",
    "best_model_summary = best_model.summary()\n",
    "best_model_summary"
   ]
  },
  {
   "cell_type": "code",
   "execution_count": 17,
   "id": "785b4515",
   "metadata": {},
   "outputs": [],
   "source": [
    "import joblib\n",
    "\n",
    "# Load the saved model\n",
    "loaded_model = joblib.load('diabetes_logistic_regression_model.joblib')"
   ]
  },
  {
   "cell_type": "code",
   "execution_count": 18,
   "id": "6a25f188",
   "metadata": {},
   "outputs": [
    {
     "name": "stderr",
     "output_type": "stream",
     "text": [
      "2024-03-09 19:12:29.489 \n",
      "  \u001b[33m\u001b[1mWarning:\u001b[0m to view this Streamlit app on a browser, run it with the following\n",
      "  command:\n",
      "\n",
      "    streamlit run E:\\ProgramData\\anaconda3\\envs\\MSBANA\\Lib\\site-packages\\ipykernel_launcher.py [ARGUMENTS]\n"
     ]
    }
   ],
   "source": [
    "import streamlit as st\n",
    "import statsmodels.api as sm\n",
    "import pandas as pd\n",
    "import numpy as np\n",
    "import joblib\n",
    "\n",
    "# Load the logistic regression model\n",
    "model = joblib.load('diabetes_logistic_regression_model.joblib')\n",
    "\n",
    "# Streamlit app title\n",
    "st.title('Diabetes Prediction App')\n",
    "\n",
    "# Creating user input fields\n",
    "pregnancies = st.number_input('Pregnancies', min_value=0)\n",
    "glucose = st.number_input('Glucose', min_value=0)\n",
    "bmi = st.number_input('BMI', min_value=0.0, format=\"%.2f\")\n",
    "dpf = st.number_input('Diabetes Pedigree Function', min_value=0.0, format=\"%.2f\")\n",
    "\n",
    "# Predict button\n",
    "if st.button('Predict'):\n",
    "    # Create a dataframe from the inputs\n",
    "    features = pd.DataFrame({\n",
    "        'Pregnancies': [pregnancies],\n",
    "        'Glucose': [glucose],\n",
    "        'BMI': [bmi],\n",
    "        'DiabetesPedigreeFunction': [dpf]\n",
    "    })\n",
    "    # Add a constant for the intercept\n",
    "    features_with_const = sm.add_constant(features, has_constant='add')\n",
    "    \n",
    "    # Making prediction\n",
    "    prediction_prob = model.predict(features_with_const)\n",
    "    prediction = prediction_prob >= 0.5  # Using 0.5 as the threshold for prediction\n",
    "    \n",
    "    # Display the prediction\n",
    "    st.subheader('Diabetes Prediction:')\n",
    "    if prediction[0]:\n",
    "        st.write(\"The person is likely diabetic.\")\n",
    "    else:\n",
    "        st.write(\"The person is likely not diabetic.\")"
   ]
  }
 ],
 "metadata": {
  "kernelspec": {
   "display_name": "Python 3 (ipykernel)",
   "language": "python",
   "name": "python3"
  },
  "language_info": {
   "codemirror_mode": {
    "name": "ipython",
    "version": 3
   },
   "file_extension": ".py",
   "mimetype": "text/x-python",
   "name": "python",
   "nbconvert_exporter": "python",
   "pygments_lexer": "ipython3",
   "version": "3.11.7"
  }
 },
 "nbformat": 4,
 "nbformat_minor": 5
}
