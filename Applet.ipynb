{
 "cells": [
  {
   "cell_type": "code",
   "execution_count": 1,
   "id": "880634d7",
   "metadata": {},
   "outputs": [],
   "source": [
    "import joblib\n",
    "\n",
    "# Load the saved model\n",
    "loaded_model = joblib.load('diabetes_logistic_regression_model.joblib')"
   ]
  },
  {
   "cell_type": "code",
   "execution_count": 2,
   "id": "7b8e779f",
   "metadata": {},
   "outputs": [
    {
     "name": "stderr",
     "output_type": "stream",
     "text": [
      "2024-03-09 19:08:59.063 \n",
      "  \u001b[33m\u001b[1mWarning:\u001b[0m to view this Streamlit app on a browser, run it with the following\n",
      "  command:\n",
      "\n",
      "    streamlit run E:\\ProgramData\\anaconda3\\envs\\MSBANA\\Lib\\site-packages\\ipykernel_launcher.py [ARGUMENTS]\n"
     ]
    }
   ],
   "source": [
    "import streamlit as st\n",
    "import statsmodels.api as sm\n",
    "import pandas as pd\n",
    "import numpy as np\n",
    "import joblib\n",
    "\n",
    "# Load the logistic regression model\n",
    "model = joblib.load('diabetes_logistic_regression_model.joblib')\n",
    "\n",
    "# Streamlit app title\n",
    "st.title('Diabetes Prediction App')\n",
    "\n",
    "# Creating user input fields\n",
    "pregnancies = st.number_input('Pregnancies', min_value=0)\n",
    "glucose = st.number_input('Glucose', min_value=0)\n",
    "bmi = st.number_input('BMI', min_value=0.0, format=\"%.2f\")\n",
    "dpf = st.number_input('Diabetes Pedigree Function', min_value=0.0, format=\"%.2f\")\n",
    "\n",
    "# Predict button\n",
    "if st.button('Predict'):\n",
    "    # Create a dataframe from the inputs\n",
    "    features = pd.DataFrame({\n",
    "        'Pregnancies': [pregnancies],\n",
    "        'Glucose': [glucose],\n",
    "        'BMI': [bmi],\n",
    "        'DiabetesPedigreeFunction': [dpf]\n",
    "    })\n",
    "    # Add a constant for the intercept\n",
    "    features_with_const = sm.add_constant(features, has_constant='add')\n",
    "    \n",
    "    # Making prediction\n",
    "    prediction_prob = model.predict(features_with_const)\n",
    "    prediction = prediction_prob >= 0.5  # Using 0.5 as the threshold for prediction\n",
    "    \n",
    "    # Display the prediction\n",
    "    st.subheader('Diabetes Prediction:')\n",
    "    if prediction[0]:\n",
    "        st.write(\"The person is likely diabetic.\")\n",
    "    else:\n",
    "        st.write(\"The person is likely not diabetic.\")"
   ]
  },
  {
   "cell_type": "code",
   "execution_count": null,
   "id": "a1526bfa",
   "metadata": {},
   "outputs": [],
   "source": []
  }
 ],
 "metadata": {
  "kernelspec": {
   "display_name": "Python 3 (ipykernel)",
   "language": "python",
   "name": "python3"
  },
  "language_info": {
   "codemirror_mode": {
    "name": "ipython",
    "version": 3
   },
   "file_extension": ".py",
   "mimetype": "text/x-python",
   "name": "python",
   "nbconvert_exporter": "python",
   "pygments_lexer": "ipython3",
   "version": "3.11.7"
  }
 },
 "nbformat": 4,
 "nbformat_minor": 5
}
